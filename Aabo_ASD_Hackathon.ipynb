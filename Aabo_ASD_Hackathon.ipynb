{
  "nbformat": 4,
  "nbformat_minor": 0,
  "metadata": {
    "colab": {
      "provenance": [],
      "toc_visible": true,
      "include_colab_link": true
    },
    "kernelspec": {
      "name": "python3",
      "display_name": "Python 3"
    },
    "language_info": {
      "name": "python"
    }
  },
  "cells": [
    {
      "cell_type": "markdown",
      "metadata": {
        "id": "view-in-github",
        "colab_type": "text"
      },
      "source": [
        "<a href=\"https://colab.research.google.com/github/JakeMalmrose/Capstone/blob/main/Aabo_ASD_Hackathon.ipynb\" target=\"_parent\"><img src=\"https://colab.research.google.com/assets/colab-badge.svg\" alt=\"Open In Colab\"/></a>"
      ]
    },
    {
      "cell_type": "markdown",
      "source": [
        "# Step 1: Import Libraries"
      ],
      "metadata": {
        "id": "XZjGbB84H_VK"
      }
    },
    {
      "source": [
        "# Task\n",
        "These files are in /content/sample_data. Please do some basic visualization with them and pandas in the notebook\n",
        "\n",
        "Here is all the data you need:\n",
        "\"train.csv\"\n",
        "\"test.csv\""
      ],
      "cell_type": "markdown",
      "metadata": {
        "id": "JWqybdjuCthn"
      }
    },
    {
      "source": [
        "## Data loading\n",
        "\n",
        "### Subtask:\n",
        "Load the provided CSV files into pandas DataFrames.\n"
      ],
      "cell_type": "markdown",
      "metadata": {
        "id": "25Pe0_ijCt-K"
      }
    },
    {
      "source": [
        "**Reasoning**:\n",
        "Load the two csv files into pandas dataframes and print their shapes.\n",
        "\n"
      ],
      "cell_type": "markdown",
      "metadata": {
        "id": "_cNIiMfyCuX7"
      }
    },
    {
      "source": [
        "import pandas as pd\n",
        "\n",
        "try:\n",
        "    df_train = pd.read_csv('/content/train.csv')\n",
        "    df_test = pd.read_csv('/content/test.csv')\n",
        "    print(f\"Shape of df_train: {df_train.shape}\")\n",
        "    print(f\"Shape of df_test: {df_test.shape}\")\n",
        "except FileNotFoundError:\n",
        "    print(\"Error: One or both of the CSV files were not found.\")\n",
        "except pd.errors.ParserError:\n",
        "    print(\"Error: There was an issue parsing the CSV file(s).  Check the file format.\")\n",
        "except Exception as e:\n",
        "    print(f\"An unexpected error occurred: {e}\")"
      ],
      "cell_type": "code",
      "metadata": {
        "colab": {
          "base_uri": "https://localhost:8080/"
        },
        "id": "xG7POOD9Cunz",
        "outputId": "ebed631b-d8ef-4d23-f382-66b49af194ad"
      },
      "execution_count": null,
      "outputs": [
        {
          "output_type": "stream",
          "name": "stdout",
          "text": [
            "Shape of df_train: (800, 22)\n",
            "Shape of df_test: (200, 21)\n"
          ]
        }
      ]
    },
    {
      "source": [
        "## Data loading\n",
        "\n",
        "### Subtask:\n",
        "Retry loading the data.\n"
      ],
      "cell_type": "markdown",
      "metadata": {
        "id": "Etfd7FuCCxCs"
      }
    },
    {
      "source": [
        "**Reasoning**:\n",
        "Retry loading the data with the provided file paths, handling potential errors.\n",
        "\n"
      ],
      "cell_type": "markdown",
      "metadata": {
        "id": "QvsUu-bjCxe7"
      }
    }
  ]
}